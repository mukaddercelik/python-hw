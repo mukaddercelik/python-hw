{
 "cells": [
  {
   "cell_type": "code",
   "execution_count": 52,
   "id": "8b6abf3e",
   "metadata": {},
   "outputs": [],
   "source": [
    "name_list = [ \"hatice\",\"mukadder\",\"elif\",\"melike\",\"aslı\",\"gökçe\"]"
   ]
  },
  {
   "cell_type": "code",
   "execution_count": 53,
   "id": "5f5fb138",
   "metadata": {},
   "outputs": [],
   "source": [
    "import random\n",
    "def random_name(name_list):\n",
    "    while len(name_list) > 1:\n",
    "        a = random.choice(name_list)\n",
    "        name_list.remove(a)\n",
    "        b = random.choice(name_list)\n",
    "        name_list.remove(b)\n",
    "        print(a,b)"
   ]
  },
  {
   "cell_type": "code",
   "execution_count": 54,
   "id": "7d9fb78d",
   "metadata": {},
   "outputs": [
    {
     "name": "stdout",
     "output_type": "stream",
     "text": [
      "aslı melike\n",
      "gökçe hatice\n",
      "elif mukadder\n"
     ]
    }
   ],
   "source": [
    "random_name(name_list)"
   ]
  },
  {
   "cell_type": "code",
   "execution_count": null,
   "id": "2c8b85c7",
   "metadata": {},
   "outputs": [],
   "source": []
  },
  {
   "cell_type": "code",
   "execution_count": null,
   "id": "9d224d1d",
   "metadata": {},
   "outputs": [],
   "source": []
  },
  {
   "cell_type": "code",
   "execution_count": null,
   "id": "167ba94f",
   "metadata": {},
   "outputs": [],
   "source": []
  },
  {
   "cell_type": "code",
   "execution_count": null,
   "id": "5c35e3fa",
   "metadata": {},
   "outputs": [],
   "source": []
  }
 ],
 "metadata": {
  "kernelspec": {
   "display_name": "Python 3 (ipykernel)",
   "language": "python",
   "name": "python3"
  },
  "language_info": {
   "codemirror_mode": {
    "name": "ipython",
    "version": 3
   },
   "file_extension": ".py",
   "mimetype": "text/x-python",
   "name": "python",
   "nbconvert_exporter": "python",
   "pygments_lexer": "ipython3",
   "version": "3.11.5"
  }
 },
 "nbformat": 4,
 "nbformat_minor": 5
}
